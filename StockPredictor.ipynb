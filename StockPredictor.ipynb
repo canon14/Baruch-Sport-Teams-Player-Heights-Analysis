{
  "nbformat": 4,
  "nbformat_minor": 0,
  "metadata": {
    "colab": {
      "name": "MSFTStockPredictions.ipynb",
      "provenance": [],
      "collapsed_sections": [],
      "authorship_tag": "ABX9TyP1otPCuCGvG5ajgxvLy7IM",
      "include_colab_link": true
    },
    "kernelspec": {
      "name": "python3",
      "display_name": "Python 3"
    }
  },
  "cells": [
    {
      "cell_type": "markdown",
      "metadata": {
        "id": "view-in-github",
        "colab_type": "text"
      },
      "source": [
        "<a href=\"https://colab.research.google.com/github/canon14/Projects-Compilation/blob/master/StockPredictor.ipynb\" target=\"_parent\"><img src=\"https://colab.research.google.com/assets/colab-badge.svg\" alt=\"Open In Colab\"/></a>"
      ]
    },
    {
      "cell_type": "markdown",
      "metadata": {
        "id": "ogBzDxI9LTJL"
      },
      "source": [
        "We will be using an artificial recurrent neural network called Long Short Term Memory (LSTM) to predict the closing stock price of corporations using the past 60 day stock price.\n"
      ]
    },
    {
      "cell_type": "code",
      "metadata": {
        "id": "VXWta_K8G_GI"
      },
      "source": [
        "#Import the libraries \n",
        "import math\n",
        "import pandas_datareader as web\n",
        "import numpy as np\n",
        "import pandas as pd\n",
        "import matplotlib.pyplot as plt\n",
        "import seaborn as sns\n",
        "from sklearn.preprocessing import MinMaxScaler\n",
        "from keras.models import Sequential\n",
        "from keras.layers import Dense, LSTM\n",
        "\n",
        "plt.style.use('fivethirtyeight')"
      ],
      "execution_count": null,
      "outputs": []
    },
    {
      "cell_type": "code",
      "metadata": {
        "id": "XOCO-thWL10l",
        "outputId": "edae5220-6020-45cf-f8aa-6588fdb448bf",
        "colab": {
          "base_uri": "https://localhost:8080/",
          "height": 235
        }
      },
      "source": [
        "# Get the stock quote\n",
        "# In this project I am using Microsoft stock and pull all the data eversince their IPO back in Sept 8,2018\n",
        "df = web.DataReader('MSFT', data_source='yahoo', start='2015-11-08', end='2020-11-08') #change the end date for most recent info\n",
        "#Show the data\n",
        "df.head()"
      ],
      "execution_count": null,
      "outputs": [
        {
          "output_type": "execute_result",
          "data": {
            "text/html": [
              "<div>\n",
              "<style scoped>\n",
              "    .dataframe tbody tr th:only-of-type {\n",
              "        vertical-align: middle;\n",
              "    }\n",
              "\n",
              "    .dataframe tbody tr th {\n",
              "        vertical-align: top;\n",
              "    }\n",
              "\n",
              "    .dataframe thead th {\n",
              "        text-align: right;\n",
              "    }\n",
              "</style>\n",
              "<table border=\"1\" class=\"dataframe\">\n",
              "  <thead>\n",
              "    <tr style=\"text-align: right;\">\n",
              "      <th></th>\n",
              "      <th>High</th>\n",
              "      <th>Low</th>\n",
              "      <th>Open</th>\n",
              "      <th>Close</th>\n",
              "      <th>Volume</th>\n",
              "      <th>Adj Close</th>\n",
              "    </tr>\n",
              "    <tr>\n",
              "      <th>Date</th>\n",
              "      <th></th>\n",
              "      <th></th>\n",
              "      <th></th>\n",
              "      <th></th>\n",
              "      <th></th>\n",
              "      <th></th>\n",
              "    </tr>\n",
              "  </thead>\n",
              "  <tbody>\n",
              "    <tr>\n",
              "      <th>2015-11-09</th>\n",
              "      <td>54.869999</td>\n",
              "      <td>53.560001</td>\n",
              "      <td>54.549999</td>\n",
              "      <td>54.160000</td>\n",
              "      <td>32513100.0</td>\n",
              "      <td>49.220352</td>\n",
              "    </tr>\n",
              "    <tr>\n",
              "      <th>2015-11-10</th>\n",
              "      <td>54.130001</td>\n",
              "      <td>53.270000</td>\n",
              "      <td>54.070000</td>\n",
              "      <td>53.509998</td>\n",
              "      <td>55283700.0</td>\n",
              "      <td>48.629631</td>\n",
              "    </tr>\n",
              "    <tr>\n",
              "      <th>2015-11-11</th>\n",
              "      <td>54.200001</td>\n",
              "      <td>53.459999</td>\n",
              "      <td>53.700001</td>\n",
              "      <td>53.650002</td>\n",
              "      <td>36516300.0</td>\n",
              "      <td>48.756870</td>\n",
              "    </tr>\n",
              "    <tr>\n",
              "      <th>2015-11-12</th>\n",
              "      <td>53.980000</td>\n",
              "      <td>53.189999</td>\n",
              "      <td>53.480000</td>\n",
              "      <td>53.320000</td>\n",
              "      <td>35361100.0</td>\n",
              "      <td>48.456959</td>\n",
              "    </tr>\n",
              "    <tr>\n",
              "      <th>2015-11-13</th>\n",
              "      <td>53.290001</td>\n",
              "      <td>52.529999</td>\n",
              "      <td>53.070000</td>\n",
              "      <td>52.840000</td>\n",
              "      <td>36848200.0</td>\n",
              "      <td>48.020748</td>\n",
              "    </tr>\n",
              "  </tbody>\n",
              "</table>\n",
              "</div>"
            ],
            "text/plain": [
              "                 High        Low       Open      Close      Volume  Adj Close\n",
              "Date                                                                         \n",
              "2015-11-09  54.869999  53.560001  54.549999  54.160000  32513100.0  49.220352\n",
              "2015-11-10  54.130001  53.270000  54.070000  53.509998  55283700.0  48.629631\n",
              "2015-11-11  54.200001  53.459999  53.700001  53.650002  36516300.0  48.756870\n",
              "2015-11-12  53.980000  53.189999  53.480000  53.320000  35361100.0  48.456959\n",
              "2015-11-13  53.290001  52.529999  53.070000  52.840000  36848200.0  48.020748"
            ]
          },
          "metadata": {
            "tags": []
          },
          "execution_count": 26
        }
      ]
    },
    {
      "cell_type": "code",
      "metadata": {
        "id": "9ttL7QFOMbNN",
        "outputId": "c3ec3ed2-a894-45e8-8113-25abf1a15795",
        "colab": {
          "base_uri": "https://localhost:8080/"
        }
      },
      "source": [
        "#Get the number of rows and columns in the data set \n",
        "df.shape"
      ],
      "execution_count": null,
      "outputs": [
        {
          "output_type": "execute_result",
          "data": {
            "text/plain": [
              "(1259, 6)"
            ]
          },
          "metadata": {
            "tags": []
          },
          "execution_count": 27
        }
      ]
    },
    {
      "cell_type": "code",
      "metadata": {
        "id": "PO4xswS0NPfZ",
        "outputId": "cfb7b289-9959-4e8f-e30c-66144d7841e7",
        "colab": {
          "base_uri": "https://localhost:8080/",
          "height": 485
        }
      },
      "source": [
        "# Closing price data visualization\n",
        "plt.figure(figsize=(18,7))\n",
        "plt.title('Close Price History')\n",
        "plt.plot(df['Close'], color='red')\n",
        "plt.xlabel('Date', fontsize=18)\n",
        "plt.ylabel('Close Price USD ($)', fontsize=18)\n",
        "plt.show()"
      ],
      "execution_count": null,
      "outputs": [
        {
          "output_type": "display_data",
          "data": {
            "image/png": "[encoded data removed]",
            "text/plain": [
              "<Figure size 1296x504 with 1 Axes>"
            ]
          },
          "metadata": {
            "tags": []
          }
        }
      ]
    },
    {
      "cell_type": "code",
      "metadata": {
        "id": "9xqfdoRmNY1F",
        "outputId": "4c1da624-07ba-401e-9462-2c8f3d03e27c",
        "colab": {
          "base_uri": "https://localhost:8080/"
        }
      },
      "source": [
        "#DATA PREPROCESSING\n",
        "\n",
        "#Create a new dataframe with only the 'Close column'\n",
        "data = df.filter(['Close'])\n",
        "\n",
        "#Convert the dataframe to a numpy array\n",
        "dataset = data.values\n",
        "\n",
        "#Get the number of rows to train the model on \n",
        "training_data_len = math.ceil(len(dataset) * 0.8 )\n",
        "\n",
        "training_data_len"
      ],
      "execution_count": null,
      "outputs": [
        {
          "output_type": "execute_result",
          "data": {
            "text/plain": [
              "1008"
            ]
          },
          "metadata": {
            "tags": []
          },
          "execution_count": 29
        }
      ]
    },
    {
      "cell_type": "code",
      "metadata": {
        "id": "0YoEm5REPSql",
        "outputId": "8b32c6aa-e70f-40d9-ce0e-c0812d8f49bf",
        "colab": {
          "base_uri": "https://localhost:8080/"
        }
      },
      "source": [
        "#Scale the data\n",
        "scaler = MinMaxScaler(feature_range=(0,1))\n",
        "scaled_data = scaler.fit_transform(dataset)\n",
        "\n",
        "scaled_data[:5]"
      ],
      "execution_count": null,
      "outputs": [
        {
          "output_type": "execute_result",
          "data": {
            "text/plain": [
              "array([[0.03127388],\n",
              "       [0.02772622],\n",
              "       [0.02849035],\n",
              "       [0.02668922],\n",
              "       [0.02406942]])"
            ]
          },
          "metadata": {
            "tags": []
          },
          "execution_count": 30
        }
      ]
    },
    {
      "cell_type": "code",
      "metadata": {
        "id": "02gQHGAZQCDt",
        "outputId": "8163a36f-cf7d-4484-9fd2-c0981dc949b9",
        "colab": {
          "base_uri": "https://localhost:8080/"
        }
      },
      "source": [
        "#Create the training data set\n",
        "#Create the scaled training data set \n",
        "train_data = scaled_data[0:training_data_len , :] \n",
        "\n",
        "#Split the data into X_train and y_train data sets\n",
        "x_train = []\n",
        "y_train = []\n",
        "\n",
        "for i in range(60, len(train_data)):\n",
        "  x_train.append(train_data[i-60:i, 0])\n",
        "  y_train.append(train_data[i,0])\n",
        "  if i<= 61:\n",
        "    print(x_train)\n",
        "    print(y_train)\n",
        "    print()"
      ],
      "execution_count": null,
      "outputs": [
        {
          "output_type": "stream",
          "text": [
            "[array([0.03127388, 0.02772622, 0.02849035, 0.02668922, 0.02406942,\n",
            "       0.02914529, 0.02477896, 0.02958191, 0.03007313, 0.03143761,\n",
            "       0.03143761, 0.03176509, 0.02870865, 0.03001856, 0.03231087,\n",
            "       0.03705928, 0.03700469, 0.0314922 , 0.04082524, 0.04027945,\n",
            "       0.04017029, 0.03574937, 0.03733217, 0.03072809, 0.03662264,\n",
            "       0.03695012, 0.04202599, 0.03967908, 0.03111015, 0.03493069,\n",
            "       0.03776879, 0.04033402, 0.03951533, 0.04104356, 0.0443183 ,\n",
            "       0.04300841, 0.03847833, 0.03476694, 0.03613142, 0.0306735 ,\n",
            "       0.02041261, 0.02128589, 0.02112214, 0.02374194, 0.01751992,\n",
            "       0.02554307, 0.01397228, 0.01162537, 0.01288069, 0.01118873,\n",
            "       0.02106757, 0.01833861, 0.02041261, 0.0152276 , 0.01981225,\n",
            "       0.03634974, 0.03427573, 0.02494269, 0.02035804, 0.01948477])]\n",
            "[0.009442198464951757]\n",
            "\n",
            "[array([0.03127388, 0.02772622, 0.02849035, 0.02668922, 0.02406942,\n",
            "       0.02914529, 0.02477896, 0.02958191, 0.03007313, 0.03143761,\n",
            "       0.03143761, 0.03176509, 0.02870865, 0.03001856, 0.03231087,\n",
            "       0.03705928, 0.03700469, 0.0314922 , 0.04082524, 0.04027945,\n",
            "       0.04017029, 0.03574937, 0.03733217, 0.03072809, 0.03662264,\n",
            "       0.03695012, 0.04202599, 0.03967908, 0.03111015, 0.03493069,\n",
            "       0.03776879, 0.04033402, 0.03951533, 0.04104356, 0.0443183 ,\n",
            "       0.04300841, 0.03847833, 0.03476694, 0.03613142, 0.0306735 ,\n",
            "       0.02041261, 0.02128589, 0.02112214, 0.02374194, 0.01751992,\n",
            "       0.02554307, 0.01397228, 0.01162537, 0.01288069, 0.01118873,\n",
            "       0.02106757, 0.01833861, 0.02041261, 0.0152276 , 0.01981225,\n",
            "       0.03634974, 0.03427573, 0.02494269, 0.02035804, 0.01948477]), array([0.02772622, 0.02849035, 0.02668922, 0.02406942, 0.02914529,\n",
            "       0.02477896, 0.02958191, 0.03007313, 0.03143761, 0.03143761,\n",
            "       0.03176509, 0.02870865, 0.03001856, 0.03231087, 0.03705928,\n",
            "       0.03700469, 0.0314922 , 0.04082524, 0.04027945, 0.04017029,\n",
            "       0.03574937, 0.03733217, 0.03072809, 0.03662264, 0.03695012,\n",
            "       0.04202599, 0.03967908, 0.03111015, 0.03493069, 0.03776879,\n",
            "       0.04033402, 0.03951533, 0.04104356, 0.0443183 , 0.04300841,\n",
            "       0.03847833, 0.03476694, 0.03613142, 0.0306735 , 0.02041261,\n",
            "       0.02128589, 0.02112214, 0.02374194, 0.01751992, 0.02554307,\n",
            "       0.01397228, 0.01162537, 0.01288069, 0.01118873, 0.02106757,\n",
            "       0.01833861, 0.02041261, 0.0152276 , 0.01981225, 0.03634974,\n",
            "       0.03427573, 0.02494269, 0.02035804, 0.01948477, 0.0094422 ])]\n",
            "[0.009442198464951757, 0.005348758740939152]\n",
            "\n"
          ],
          "name": "stdout"
        }
      ]
    },
    {
      "cell_type": "code",
      "metadata": {
        "id": "9sOK-9F5SOnc"
      },
      "source": [
        "#Convert the x_train and y_train to numpy arrays \n",
        "x_train, y_train = np.array(x_train), np.array(y_train)"
      ],
      "execution_count": null,
      "outputs": []
    },
    {
      "cell_type": "code",
      "metadata": {
        "id": "3NIxVawhS6Zo",
        "outputId": "29715694-e336-4dc7-faf8-c50a1f9db064",
        "colab": {
          "base_uri": "https://localhost:8080/"
        }
      },
      "source": [
        "#Reshape the data\n",
        "#LSTM model expects 3 dimensions, we need to reshape our data\n",
        "\n",
        "x_train = np.reshape(x_train, (x_train.shape[0], x_train.shape[1], 1))\n",
        "x_train.shape"
      ],
      "execution_count": null,
      "outputs": [
        {
          "output_type": "execute_result",
          "data": {
            "text/plain": [
              "(948, 60, 1)"
            ]
          },
          "metadata": {
            "tags": []
          },
          "execution_count": 33
        }
      ]
    },
    {
      "cell_type": "code",
      "metadata": {
        "id": "R2JUgGeHTUyi"
      },
      "source": [
        "#Build the LSTM model\n",
        "model = Sequential()\n",
        "model.add(LSTM(50, return_sequences=True, input_shape=(x_train.shape[1],1)))\n",
        "model.add(LSTM(50, return_sequences=False))\n",
        "model.add(Dense(25))\n",
        "model.add(Dense(1))"
      ],
      "execution_count": null,
      "outputs": []
    },
    {
      "cell_type": "code",
      "metadata": {
        "id": "2v0nKGe2T5wO"
      },
      "source": [
        "#Compile the model\n",
        "model.compile(optimizer='adam', loss='mean_squared_error') #Optimizer used to improve upon loss function, Loss function used to measure how good our model on the training "
      ],
      "execution_count": null,
      "outputs": []
    },
    {
      "cell_type": "code",
      "metadata": {
        "id": "1LXG4lbeUPjh",
        "outputId": "4bd1e735-2e57-48d3-e8d3-6409a66ad4cb",
        "colab": {
          "base_uri": "https://localhost:8080/"
        }
      },
      "source": [
        "#Train the model\n",
        "model.fit(x_train, y_train, batch_size=1, epochs=1)"
      ],
      "execution_count": null,
      "outputs": [
        {
          "output_type": "stream",
          "text": [
            "948/948 [==============================] - 22s 23ms/step - loss: 9.8131e-04\n"
          ],
          "name": "stdout"
        },
        {
          "output_type": "execute_result",
          "data": {
            "text/plain": [
              "<tensorflow.python.keras.callbacks.History at 0x7fe2e623ff60>"
            ]
          },
          "metadata": {
            "tags": []
          },
          "execution_count": 36
        }
      ]
    },
    {
      "cell_type": "code",
      "metadata": {
        "id": "WHZtobDTYtjX"
      },
      "source": [
        "# Create the testing data set\n",
        "# Create a new array containing scaled values from index 948 to 1259\n",
        "test_data = scaled_data[training_data_len - 60:, :]\n",
        "\n",
        "# Create the data sets x_test and y_test\n",
        "x_test = []\n",
        "y_test = dataset[training_data_len:, :]\n",
        "\n",
        "for i in range(60, len(test_data)):\n",
        "  x_test.append(test_data[i-60:i, 0])"
      ],
      "execution_count": null,
      "outputs": []
    },
    {
      "cell_type": "code",
      "metadata": {
        "id": "kWSZmag3dKKq"
      },
      "source": [
        "# Convert the data to a numpy array \n",
        "x_test = np.array(x_test)"
      ],
      "execution_count": null,
      "outputs": []
    },
    {
      "cell_type": "code",
      "metadata": {
        "id": "4fq365FDdWmC"
      },
      "source": [
        "#Reshape the data\n",
        "x_test = np.reshape(x_test, (x_test.shape[0], x_test.shape[1], 1))"
      ],
      "execution_count": null,
      "outputs": []
    },
    {
      "cell_type": "code",
      "metadata": {
        "id": "5xA8rpQhd5LQ"
      },
      "source": [
        "# Get the models predicted price values \n",
        "predictions = model.predict(x_test)\n",
        "predictions = scaler.inverse_transform(predictions)"
      ],
      "execution_count": null,
      "outputs": []
    },
    {
      "cell_type": "code",
      "metadata": {
        "id": "ye4AXT5DeXeb",
        "outputId": "3a20b2ce-2117-4f34-9482-37d0100c042c",
        "colab": {
          "base_uri": "https://localhost:8080/"
        }
      },
      "source": [
        "# Get the root mean squared error (RMSE) (lower value is better fit)\n",
        "RMSE = np.sqrt(np.mean(predictions - y_test)**2 )\n",
        "RMSE"
      ],
      "execution_count": null,
      "outputs": [
        {
          "output_type": "execute_result",
          "data": {
            "text/plain": [
              "8.815655164984593"
            ]
          },
          "metadata": {
            "tags": []
          },
          "execution_count": 45
        }
      ]
    },
    {
      "cell_type": "code",
      "metadata": {
        "id": "DrxdrkVPetir",
        "outputId": "6b248c5f-2717-4e51-ac4b-bab34698bd93",
        "colab": {
          "base_uri": "https://localhost:8080/",
          "height": 680
        }
      },
      "source": [
        "#Plot the data \n",
        "train = data[:training_data_len]\n",
        "valid = data[training_data_len:]\n",
        "valid['Predictions'] = predictions\n",
        "\n",
        "#Visualize the data \n",
        "plt.figure(figsize=(16,8))\n",
        "plt.title('Model')\n",
        "plt.xlabel('Date', fontsize=18)\n",
        "plt.ylabel('Close Price USD ($)', fontsize=18)\n",
        "plt.plot(train['Close'])\n",
        "plt.plot(valid[['Close', 'Predictions']])\n",
        "plt.legend(['Train', 'Validation', 'Predictions'], loc='lower right')\n",
        "plt.show()"
      ],
      "execution_count": null,
      "outputs": [
        {
          "output_type": "stream",
          "text": [
            "/usr/local/lib/python3.6/dist-packages/ipykernel_launcher.py:4: SettingWithCopyWarning: \n",
            "A value is trying to be set on a copy of a slice from a DataFrame.\n",
            "Try using .loc[row_indexer,col_indexer] = value instead\n",
            "\n",
            "See the caveats in the documentation: https://pandas.pydata.org/pandas-docs/stable/user_guide/indexing.html#returning-a-view-versus-a-copy\n",
            "  after removing the cwd from sys.path.\n"
          ],
          "name": "stderr"
        },
        {
          "output_type": "display_data",
          "data": {
            "image/png": "[encoded data removed]",
            "text/plain": [
              "<Figure size 1152x576 with 1 Axes>"
            ]
          },
          "metadata": {
            "tags": []
          }
        }
      ]
    },
    {
      "cell_type": "code",
      "metadata": {
        "id": "tbSTFf83fytX",
        "outputId": "4985203f-febc-486d-a06d-c774b5590f55",
        "colab": {
          "base_uri": "https://localhost:8080/",
          "height": 450
        }
      },
      "source": [
        "# Show the valid and predicted prices\n",
        "valid "
      ],
      "execution_count": null,
      "outputs": [
        {
          "output_type": "execute_result",
          "data": {
            "text/html": [
              "<div>\n",
              "<style scoped>\n",
              "    .dataframe tbody tr th:only-of-type {\n",
              "        vertical-align: middle;\n",
              "    }\n",
              "\n",
              "    .dataframe tbody tr th {\n",
              "        vertical-align: top;\n",
              "    }\n",
              "\n",
              "    .dataframe thead th {\n",
              "        text-align: right;\n",
              "    }\n",
              "</style>\n",
              "<table border=\"1\" class=\"dataframe\">\n",
              "  <thead>\n",
              "    <tr style=\"text-align: right;\">\n",
              "      <th></th>\n",
              "      <th>Close</th>\n",
              "      <th>Predictions</th>\n",
              "    </tr>\n",
              "    <tr>\n",
              "      <th>Date</th>\n",
              "      <th></th>\n",
              "      <th></th>\n",
              "    </tr>\n",
              "  </thead>\n",
              "  <tbody>\n",
              "    <tr>\n",
              "      <th>2019-11-11</th>\n",
              "      <td>146.110001</td>\n",
              "      <td>141.935272</td>\n",
              "    </tr>\n",
              "    <tr>\n",
              "      <th>2019-11-12</th>\n",
              "      <td>147.070007</td>\n",
              "      <td>142.303452</td>\n",
              "    </tr>\n",
              "    <tr>\n",
              "      <th>2019-11-13</th>\n",
              "      <td>147.309998</td>\n",
              "      <td>142.708649</td>\n",
              "    </tr>\n",
              "    <tr>\n",
              "      <th>2019-11-14</th>\n",
              "      <td>148.059998</td>\n",
              "      <td>143.124420</td>\n",
              "    </tr>\n",
              "    <tr>\n",
              "      <th>2019-11-15</th>\n",
              "      <td>149.970001</td>\n",
              "      <td>143.563751</td>\n",
              "    </tr>\n",
              "    <tr>\n",
              "      <th>...</th>\n",
              "      <td>...</td>\n",
              "      <td>...</td>\n",
              "    </tr>\n",
              "    <tr>\n",
              "      <th>2020-11-02</th>\n",
              "      <td>202.330002</td>\n",
              "      <td>199.127792</td>\n",
              "    </tr>\n",
              "    <tr>\n",
              "      <th>2020-11-03</th>\n",
              "      <td>206.429993</td>\n",
              "      <td>198.064697</td>\n",
              "    </tr>\n",
              "    <tr>\n",
              "      <th>2020-11-04</th>\n",
              "      <td>216.389999</td>\n",
              "      <td>197.268906</td>\n",
              "    </tr>\n",
              "    <tr>\n",
              "      <th>2020-11-05</th>\n",
              "      <td>223.289993</td>\n",
              "      <td>197.172409</td>\n",
              "    </tr>\n",
              "    <tr>\n",
              "      <th>2020-11-06</th>\n",
              "      <td>223.720001</td>\n",
              "      <td>197.806137</td>\n",
              "    </tr>\n",
              "  </tbody>\n",
              "</table>\n",
              "<p>251 rows × 2 columns</p>\n",
              "</div>"
            ],
            "text/plain": [
              "                 Close  Predictions\n",
              "Date                               \n",
              "2019-11-11  146.110001   141.935272\n",
              "2019-11-12  147.070007   142.303452\n",
              "2019-11-13  147.309998   142.708649\n",
              "2019-11-14  148.059998   143.124420\n",
              "2019-11-15  149.970001   143.563751\n",
              "...                ...          ...\n",
              "2020-11-02  202.330002   199.127792\n",
              "2020-11-03  206.429993   198.064697\n",
              "2020-11-04  216.389999   197.268906\n",
              "2020-11-05  223.289993   197.172409\n",
              "2020-11-06  223.720001   197.806137\n",
              "\n",
              "[251 rows x 2 columns]"
            ]
          },
          "metadata": {
            "tags": []
          },
          "execution_count": 48
        }
      ]
    },
    {
      "cell_type": "code",
      "metadata": {
        "id": "XdR9RpOzgLtm",
        "outputId": "965d7ba5-7ee1-489f-f209-bb504e64696c",
        "colab": {
          "base_uri": "https://localhost:8080/"
        }
      },
      "source": [
        "# Get the quote \n",
        "msft_quote = web.DataReader('MSFT', data_source='yahoo', start='2015-11-08', end='2020-11-08')\n",
        "\n",
        "#Create a new dataframe\n",
        "new_df = msft_quote.filter(['Close'])\n",
        "\n",
        "#Get the last 60 day closing price values and convert the dataframe to an array\n",
        "last_60_days = new_df[-60:].values\n",
        "\n",
        "#Scale the data to be values between 0 and 1 \n",
        "last_60_days_scaled = scaler.transform(last_60_days)\n",
        "\n",
        "#Create an empty list \n",
        "X_test = []\n",
        "\n",
        "#Append the past 60 days to X_test\n",
        "X_test.append(last_60_days_scaled)\n",
        "\n",
        "#Convert the X_test data set to a numpy array\n",
        "X_test = np.array(X_test)\n",
        "\n",
        "#Reshape the data into 3 dimensional\n",
        "x_test = np.reshape(X_test, (X_test.shape[0], X_test.shape[1], 1))\n",
        "\n",
        "#Get the predicted scaled price\n",
        "pred_price = model.predict(X_test)\n",
        "\n",
        "#Undo the scaling \n",
        "pred_price = scaler.inverse_transform(pred_price)\n",
        "\n",
        "print(pred_price)"
      ],
      "execution_count": null,
      "outputs": [
        {
          "output_type": "stream",
          "text": [
            "[[198.82913]]\n"
          ],
          "name": "stdout"
        }
      ]
    },
    {
      "cell_type": "code",
      "metadata": {
        "id": "pxoQrwPMh_Vs",
        "outputId": "4bddc409-4c6b-48d1-9521-69b082cd3938",
        "colab": {
          "base_uri": "https://localhost:8080/"
        }
      },
      "source": [
        "#Get the quote to check our prediction price\n",
        "msft_quote2 = web.DataReader('MSFT', data_source='yahoo', start='2020-11-09', end='2020-11-09')\n",
        "print(msft_quote2['Close'])"
      ],
      "execution_count": null,
      "outputs": [
        {
          "output_type": "stream",
          "text": [
            "Date\n",
            "2020-11-09    218.389999\n",
            "Name: Close, dtype: float64\n"
          ],
          "name": "stdout"
        }
      ]
    },
    {
      "cell_type": "markdown",
      "metadata": {
        "id": "wyFSsBsjikiM"
      },
      "source": [
        "Result of our model is off by 20 points which is quite a bit, but we expected the price to be much lower than the actual price. Voila! hope it brings some insights for you. "
      ]
    },
    {
      "cell_type": "code",
      "metadata": {
        "id": "WZTXMBlsidRm"
      },
      "source": [
        ""
      ],
      "execution_count": null,
      "outputs": []
    }
  ]
}