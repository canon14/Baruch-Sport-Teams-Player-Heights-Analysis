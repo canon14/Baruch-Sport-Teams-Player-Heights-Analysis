{
  "nbformat": 4,
  "nbformat_minor": 0,
  "metadata": {
    "colab": {
      "name": "CIS 3120 HW1",
      "provenance": [],
      "authorship_tag": "ABX9TyP3o/k0rNB7QDNuYtknK6Eq",
      "include_colab_link": true
    },
    "kernelspec": {
      "name": "python3",
      "display_name": "Python 3"
    }
  },
  "cells": [
    {
      "cell_type": "markdown",
      "metadata": {
        "id": "view-in-github",
        "colab_type": "text"
      },
      "source": [
        "<a href=\"https://colab.research.google.com/github/canon14/Baruch-Sport-Teams-Player-Heights-Analysis/blob/master/CIS_3120_HW1.ipynb\" target=\"_parent\"><img src=\"https://colab.research.google.com/assets/colab-badge.svg\" alt=\"Open In Colab\"/></a>"
      ]
    },
    {
      "cell_type": "code",
      "metadata": {
        "id": "OD14W_k3okMw",
        "colab_type": "code",
        "colab": {}
      },
      "source": [
        "#Import necessary libraries for webscraping\n",
        "import requests\n",
        "from bs4 import BeautifulSoup"
      ],
      "execution_count": 11,
      "outputs": []
    },
    {
      "cell_type": "code",
      "metadata": {
        "id": "YncEUtQJpXLV",
        "colab_type": "code",
        "colab": {}
      },
      "source": [
        "#Assign each one of the websites we try to webscrape\n",
        "MSTurl = 'https://athletics.baruch.cuny.edu/sports/mens-swimming-and-diving/roster'\n",
        "MVTurl = 'https://athletics.baruch.cuny.edu/sports/mens-volleyball/roster'\n",
        "WSTurl = 'https://athletics.baruch.cuny.edu/sports/womens-swimming-and-diving/roster'\n",
        "WVTurl = 'https://athletics.baruch.cuny.edu/sports/womens-volleyball/roster'"
      ],
      "execution_count": 12,
      "outputs": []
    },
    {
      "cell_type": "code",
      "metadata": {
        "id": "RAQBprdlAI8N",
        "colab_type": "code",
        "colab": {
          "base_uri": "https://localhost:8080/",
          "height": 255
        },
        "outputId": "be029ff5-862e-4cb8-9bcf-bfb449be2cfd"
      },
      "source": [
        "def CalculateHAverageHeight(url):\n",
        "  page = requests.get(url)\n",
        "  soup = BeautifulSoup(page.content, 'html.parser')\n",
        "  soup_search = soup.find_all('span', class_='sidearm-roster-player-height')\n",
        "  \n",
        "  teamHeights = []\n",
        "  #ConvertedTeamHeights is a list of all the players height converted to cm\n",
        "  ConvertedTeamHeights = [] \n",
        "\n",
        "  for height in soup_search:\n",
        "    teamHeights.append(height.get_text().strip('\"'))\n",
        "\n",
        "  for i in range(0,len(teamHeights)):\n",
        "    convertion = (float(teamHeights[i][0]) * 30.48) +  (float(teamHeights[i][2]) * 2.54)\n",
        "    ConvertedTeamHeights.append(convertion)\n",
        "  \n",
        "  # Uncomment below to check the list of all the players height\n",
        "  # print(teamHeights)\n",
        "  # print(ConvertedTeamHeights)\n",
        "\n",
        "  avgHeight = round((sum(ConvertedTeamHeights)/len(ConvertedTeamHeights)),2)\n",
        "  \n",
        "  print('Average height is:', avgHeight, 'centimeters')\n",
        "\n",
        "print('Men Swimming Team')\n",
        "CalculateHAverageHeight(MSTurl)\n",
        "print('\\n')\n",
        "print('Men Volleyball Team')\n",
        "CalculateHAverageHeight(MVTurl)\n",
        "print('\\n')\n",
        "print('Women Swimming Team')\n",
        "CalculateHAverageHeight(WSTurl)\n",
        "print('\\n')\n",
        "print('Women Volleyball Team')\n",
        "CalculateHAverageHeight(WVTurl)\n",
        "\n",
        "  "
      ],
      "execution_count": 13,
      "outputs": [
        {
          "output_type": "stream",
          "text": [
            "Men Swimming Team\n",
            "Average height is: 174.16 centimeters\n",
            "\n",
            "\n",
            "Men Volleyball Team\n",
            "Average height is: 184.08 centimeters\n",
            "\n",
            "\n",
            "Women Swimming Team\n",
            "Average height is: 162.56 centimeters\n",
            "\n",
            "\n",
            "Women Volleyball Team\n",
            "Average height is: 163.65 centimeters\n"
          ],
          "name": "stdout"
        }
      ]
    },
    {
      "cell_type": "code",
      "metadata": {
        "id": "DY4_x8_Pq1ne",
        "colab_type": "code",
        "colab": {}
      },
      "source": [
        ""
      ],
      "execution_count": null,
      "outputs": []
    }
  ]
}